{
 "cells": [
  {
   "cell_type": "code",
   "execution_count": 8,
   "metadata": {},
   "outputs": [
    {
     "name": "stdout",
     "output_type": "stream",
     "text": [
      "Digər rəyçilərdən biri də qeyd etdi ki, yalnız 1 oz epizodunu izlədikdən sonra əyləşəcəksiniz.Düzdür, çünki bu mənimlə nə oldu.Məni oz haqqında vuran ilk şey, sağa doğru yola salınan zorakılıq və şiddət mənzərələri idi.Mənə güvən, bu, huşlu və ya utancaq üçün bir şou deyil.Bu şou, narkotik, cinsi və ya zorakılıq ilə əlaqədar heç bir yumruq çəkmir.Sözün klassik istifadəsində ağırdır.Oz adlanır, çünki bu, Oswald maksimum təhlükəsizlik vəziyyəti penitentariyasına verilən ləqəbdir.Əsasən zümrüd şəhərinə, bütün hüceyrələrin şüşəli cəbhələrə və üz-üzə gəldiyi və üz-üzə olan həbsxananın eksperimental bölməsinə diqqət yetirir, buna görə də gizlilik gündəmdə yüksək deyil.Em City, çox sayda, müsəlman, quldurlar, latın, xristianlar, italyanlar, irland və daha çox ...Deyərdim ki, şounun əsas müraciəti, bunun digər şouların cəsarət etmədiyi yerə aid olması ilə əlaqədardır.Əsas auditoriya üçün rənglənmiş olduqca şəkilləri unut, cazibədarlıq unut, romantikanı unutma ... oz ətrafında qarışmır.İndiyə qədər gördüyüm ilk epizod, bu qədər murdar kimi vurdu, buna hazır olduğumu deyə bilmədim, amma daha çox izlədiyim üçün oz üçün bir ləzzət hazırladım və qrafik zorakılığa alışdım.Yalnız zorakılıq deyil, haqsızlıq (haqsızlıqlar (bir nikel üçün satılacaq əyri mühafizəçilər, qaydada öldürəcək və onunla birlikdə olacağı, ətraflı, orta sinif məhkumları, küçə bacarıqlarının olmaması səbəbindən həbsxanaya çevrildivə ya həbsxana təcrübəsi) Oz izləmək, narahat görüntülənən şeydən rahat ola bilərsiniz .... qaranlıq tərəfinizlə əlaqə qura bilsəniz.\n",
      "Gözəl bir az istehsal.Filmləmə texnikası çox səssizcə - çox köhnə zaman-BBC moda və rahatlıq verir, bəzən narahat edir və bütün parçaya realizm hissi verir.Aktyorlar son dərəcə yaxşı seçilmişdirlər - Michael Sheen yalnız \"bütün polari var\" deyil, o da bütün səsləri də aşağı salır!Williams'ın gündəlik girişlərinə istinadları idarə edən, yalnız seyr etməyə dəyər olan sorunsuz redaktəni həqiqətən görə bilərsiniz, ancaq bu dəhşətli yazılmış və ifa olunan bir parçadir.Böyük magistr-in komediya və həyatı haqqında usta bir istehsal.Realizm həqiqətən kiçik şeylər ilə evə gəlir: ənənəvi 'xəyal' üsullarından istifadə etməkdənsə, daha çox istifadə etməkdənsə, ardından yox olur.Bu, bizim biliklərimizi və hisslərimizdə, xüsusən də Orton və Halliwell ilə əlaqəli səhnələrimizdə (xüsusən də Halliwellin hər səthi bəzəyən həyətləri ilə düz) olduqca yaxşı iş görür.\n"
     ]
    }
   ],
   "source": [
    "import pandas as pd\n",
    "import csv\n",
    "from googletrans import Translator\n",
    "from utils import translate_to_azerbaijani\n",
    "\n",
    "\n",
    "csv_path = \"dataset/imdb_dataset.csv\"\n",
    "\n",
    "with open(csv_path, \"r\", encoding = \"utf8\") as file:\n",
    "\n",
    "    data = pd.read_csv(file)\n",
    "    samples = data[\"review (ENG)\"].to_list()\n",
    "\n",
    "az_samples = []\n",
    "translator = Translator()\n",
    "\n",
    "for i in range(2):\n",
    "    samples[i] = samples[i].replace(\"<br />\", \" \")\n",
    "    az_samples.append(translate_to_azerbaijani(samples[i], translator))\n",
    "    print(az_samples[i])\n",
    "\n",
    "dataf = pd.DataFrame({\"eng_review\": samples[:2], \"az_review\": az_samples, \"label\": data[\"sentiment\"].to_list()[:2]})\n",
    "\n",
    "dataf.to_csv(\"filename.csv\")"
   ]
  },
  {
   "cell_type": "code",
   "execution_count": null,
   "metadata": {},
   "outputs": [],
   "source": []
  }
 ],
 "metadata": {
  "kernelspec": {
   "display_name": "sentiment",
   "language": "python",
   "name": "python3"
  },
  "language_info": {
   "codemirror_mode": {
    "name": "ipython",
    "version": 3
   },
   "file_extension": ".py",
   "mimetype": "text/x-python",
   "name": "python",
   "nbconvert_exporter": "python",
   "pygments_lexer": "ipython3",
   "version": "3.10.6"
  },
  "orig_nbformat": 4,
  "vscode": {
   "interpreter": {
    "hash": "f74f65bb7eaf8fab73e4385f5767264cc423549775116fc297cd951f38e125f5"
   }
  }
 },
 "nbformat": 4,
 "nbformat_minor": 2
}
